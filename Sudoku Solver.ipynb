{
 "cells": [
  {
   "cell_type": "markdown",
   "metadata": {},
   "source": [
    "# Sodoku Solver"
   ]
  },
  {
   "cell_type": "markdown",
   "metadata": {},
   "source": [
    "## Puzzle Setup\n",
    "Enter the original puzzle here. Mark the blank squares as zeros."
   ]
  },
  {
   "cell_type": "code",
   "execution_count": 1,
   "metadata": {},
   "outputs": [],
   "source": [
    "puzzle =  [[5,3,0,0,7,0,0,0,0],\n",
    "            [6,0,0,1,9,5,0,0,0],\n",
    "            [0,9,8,0,0,0,0,6,0],\n",
    "            [8,0,0,0,6,0,0,0,3],\n",
    "            [4,0,0,8,0,3,0,0,1],\n",
    "            [7,0,0,0,2,0,0,0,6],\n",
    "            [0,6,0,0,0,0,2,8,0],\n",
    "            [0,0,0,4,1,9,0,0,5],\n",
    "            [0,0,0,0,8,0,0,7,9]] \n",
    "solved = False"
   ]
  },
  {
   "cell_type": "markdown",
   "metadata": {},
   "source": [
    "## Imports"
   ]
  },
  {
   "cell_type": "code",
   "execution_count": 2,
   "metadata": {},
   "outputs": [],
   "source": [
    "import numpy as np"
   ]
  },
  {
   "cell_type": "markdown",
   "metadata": {},
   "source": [
    "## Helper Functions"
   ]
  },
  {
   "cell_type": "code",
   "execution_count": 3,
   "metadata": {},
   "outputs": [],
   "source": [
    "def IsPossible(y,x,n):\n",
    "    global puzzle\n",
    "    # check row for number already in row\n",
    "    for i in range(9):\n",
    "        if puzzle[y][i] == n:\n",
    "            return False\n",
    "    # check for number already in column\n",
    "    for i in range(9):\n",
    "        if puzzle[i][x] == n:\n",
    "            return False\n",
    "    # there are 3x3 local groups, figure local group coordinates for x,y\n",
    "    localGroupXOffset = (x//3)*3\n",
    "    localGroupYOffset = (y//3)*3\n",
    "    # check the 9 squares in the local grid for number already there\n",
    "    for i in range(3):\n",
    "        for j in range(3):\n",
    "            if puzzle[localGroupYOffset + i][localGroupXOffset + j] == n:\n",
    "                return False\n",
    "    # number is possible\n",
    "    return True\n",
    "\n",
    "def puzzleHasBlanks():\n",
    "    for i in range(9):\n",
    "        for j in range(9):\n",
    "            if puzzle[i][j] == 0:\n",
    "                return True\n",
    "    return False"
   ]
  },
  {
   "cell_type": "markdown",
   "metadata": {},
   "source": [
    "## Recursive Solve Method"
   ]
  },
  {
   "cell_type": "code",
   "execution_count": 4,
   "metadata": {},
   "outputs": [],
   "source": [
    "def solve():\n",
    "    global puzzle, solved\n",
    "    for y in range(9):\n",
    "       for x in range(9):\n",
    "            # find next empty square\n",
    "            if puzzle[y][x] == 0:\n",
    "                # try each number 1 to 9\n",
    "                for n in range(1,10):\n",
    "                    if IsPossible(y,x,n):\n",
    "                        # try that number and see how it goes\n",
    "                        puzzle[y][x] = n\n",
    "                        solve()\n",
    "                        if solved:\n",
    "                            return\n",
    "                        else:\n",
    "                            # possible solution didn't work out, backtrack\n",
    "                            puzzle[y][x] = 0\n",
    "                return\n",
    "    # all done  \n",
    "    solved = True\n",
    "    print('The solution is:')\n",
    "    print(np.matrix(puzzle)) "
   ]
  },
  {
   "cell_type": "markdown",
   "metadata": {},
   "source": [
    "## Solve the Puzzle"
   ]
  },
  {
   "cell_type": "code",
   "execution_count": 5,
   "metadata": {},
   "outputs": [
    {
     "name": "stdout",
     "output_type": "stream",
     "text": [
      "The solution is:\n",
      "[[5 3 4 6 7 8 9 1 2]\n",
      " [6 7 2 1 9 5 3 4 8]\n",
      " [1 9 8 3 4 2 5 6 7]\n",
      " [8 5 9 7 6 1 4 2 3]\n",
      " [4 2 6 8 5 3 7 9 1]\n",
      " [7 1 3 9 2 4 8 5 6]\n",
      " [9 6 1 5 3 7 2 8 4]\n",
      " [2 8 7 4 1 9 6 3 5]\n",
      " [3 4 5 2 8 6 1 7 9]]\n"
     ]
    }
   ],
   "source": [
    "solve()\n"
   ]
  }
 ],
 "metadata": {
  "kernelspec": {
   "display_name": "Python 3",
   "language": "python",
   "name": "python3"
  },
  "language_info": {
   "codemirror_mode": {
    "name": "ipython",
    "version": 3
   },
   "file_extension": ".py",
   "mimetype": "text/x-python",
   "name": "python",
   "nbconvert_exporter": "python",
   "pygments_lexer": "ipython3",
   "version": "3.7.6"
  }
 },
 "nbformat": 4,
 "nbformat_minor": 1
}
